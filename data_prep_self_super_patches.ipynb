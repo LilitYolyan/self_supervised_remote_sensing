{
 "cells": [
  {
   "cell_type": "markdown",
   "metadata": {},
   "source": [
    "### Data Preparation for self-supervised training"
   ]
  },
  {
   "cell_type": "markdown",
   "metadata": {},
   "source": [
    "This code creates small patches from large, high resolution satellite and UAV images."
   ]
  },
  {
   "cell_type": "code",
   "execution_count": 47,
   "metadata": {},
   "outputs": [],
   "source": [
    "from glob import glob\n",
    "from PIL import Image\n",
    "from sklearn.feature_extraction import image\n",
    "import numpy as np\n",
    "import imagesize\n",
    "from pathlib import Path\n",
    "import os\n",
    "import shutil\n",
    "from uuid import uuid4\n",
    "from tqdm import tqdm"
   ]
  },
  {
   "cell_type": "code",
   "execution_count": 48,
   "metadata": {},
   "outputs": [],
   "source": [
    "Image.MAX_IMAGE_PIXELS = None "
   ]
  },
  {
   "cell_type": "code",
   "execution_count": 49,
   "metadata": {},
   "outputs": [],
   "source": [
    "def crop(im, height, width):\n",
    "    imgwidth, imgheight = im.size\n",
    "    rows = np.int(imgheight/height)\n",
    "    cols = np.int(imgwidth/width)\n",
    "    for i in range(rows):\n",
    "        for j in range(cols):\n",
    "            # print (i,j)\n",
    "            box = (j*width, i*height, (j+1)*width, (i+1)*height)\n",
    "            yield im.crop(box)"
   ]
  },
  {
   "cell_type": "code",
   "execution_count": 50,
   "metadata": {},
   "outputs": [],
   "source": [
    "main_path = '/main/path/to/all/datasets'"
   ]
  },
  {
   "cell_type": "code",
   "execution_count": 82,
   "metadata": {},
   "outputs": [],
   "source": [
    "def pathches(image, size):\n",
    "    cropped = crop(image, size, size)\n",
    "    sv = os.path.join(main_path, i.split('/')[-3] + f'__{size}')\n",
    "    Path(sv).mkdir(parents=True, exist_ok=True)\n",
    "    while True:\n",
    "        try:\n",
    "            im = next(cropped).resize((500,500))\n",
    "            if len(np.unique(np.where(np.array(im) == 0)[0])) == 500:\n",
    "                continue\n",
    "            else:\n",
    "                name = str(int(uuid4()))\n",
    "                im.save(os.path.join(sv, name + '.tif'))\n",
    "        except StopIteration:\n",
    "            break"
   ]
  },
  {
   "cell_type": "code",
   "execution_count": 54,
   "metadata": {},
   "outputs": [],
   "source": [
    "images = glob('path/to/folders/with/iamges/*.tif')"
   ]
  },
  {
   "cell_type": "code",
   "execution_count": 57,
   "metadata": {},
   "outputs": [
    {
     "name": "stderr",
     "output_type": "stream",
     "text": [
      "100%|██████████| 31/31 [38:51<00:00, 75.20s/it]  \n"
     ]
    }
   ],
   "source": [
    "for i in tqdm(images):\n",
    "    w, h = imagesize.get(i)\n",
    "    img = Image.open(i)\n",
    "    pathches(img, 1500)\n",
    "    pathches(img, 2500)\n",
    "\n",
    "    if (w or h) > 10000:\n",
    "        pathches(img, 5000)\n",
    "                \n",
    "    if (w or h) > 20000:\n",
    "        pathches(img, 10000)\n"
   ]
  },
  {
   "cell_type": "code",
   "execution_count": 91,
   "metadata": {},
   "outputs": [
    {
     "data": {
      "text/plain": [
       "95482"
      ]
     },
     "execution_count": 91,
     "metadata": {},
     "output_type": "execute_result"
    }
   ],
   "source": [
    "len(glob('/media/lilit/40c6a091-173a-4b33-b34f-05832ea51559/romote_sensing/self_supervised_dataset/*/*'))"
   ]
  }
 ],
 "metadata": {
  "kernelspec": {
   "display_name": "Python 3",
   "language": "python",
   "name": "python3"
  },
  "language_info": {
   "codemirror_mode": {
    "name": "ipython",
    "version": 3
   },
   "file_extension": ".py",
   "mimetype": "text/x-python",
   "name": "python",
   "nbconvert_exporter": "python",
   "pygments_lexer": "ipython3",
   "version": "3.8.2"
  }
 },
 "nbformat": 4,
 "nbformat_minor": 4
}
